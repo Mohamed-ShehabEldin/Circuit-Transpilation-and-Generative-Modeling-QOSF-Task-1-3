{
 "cells": [
  {
   "cell_type": "markdown",
   "metadata": {},
   "source": [
    "<h1 align=\"center\">QOSF Task 1 Tackling: generative modeling</h1>\n",
    "<h4 align=\"center\">Using Python & Qiskit</h4>\n",
    "<h3 align=\"center\">Mohamed Sami ShehabEldin</h3>\n",
    "<h4 align=\"center\">Zewail City of Science and Technology</h4>"
   ]
  },
  {
   "cell_type": "markdown",
   "metadata": {},
   "source": [
    "### 1. Task Statement (for the sake of organization):"
   ]
  },
  {
   "cell_type": "markdown",
   "metadata": {},
   "source": [
    "![title](images/c1.png)"
   ]
  },
  {
   "cell_type": "markdown",
   "metadata": {},
   "source": [
    "<img src=\"images/c2.png\" width=\"600\" height=\"100\">"
   ]
  },
  {
   "cell_type": "markdown",
   "metadata": {},
   "source": [
    "<img src=\"images/c3.png\" width=\"600\" height=\"100\">"
   ]
  },
  {
   "cell_type": "markdown",
   "metadata": {},
   "source": [
    "### 2. Task Planing:"
   ]
  },
  {
   "cell_type": "markdown",
   "metadata": {},
   "source": [
    "We want to get the minimum of the difference between output of some circuit and another random state, for a given number of layers L.\n",
    "\n",
    "**Firstly**, to create the circuit that contains the layers:\n",
    "* I made this by making a separate function to add the odd block given the 4 angle parameters, and I did the same thing for the even block.\n",
    "* Together, odd and even block can make one layer, but we want the number of layers be a parameter in some function so that we can manipulate it in the plot. So, I made add layers function which is parametrized in terms of all parameters in the circuit given in matrix format (4 x #blocks), Note that the number of layers is conveyed in this matrix.\n",
    "\n",
    "**Secondly**, we need to extract the output state. So, I made function psi_th that take all the circuit parameters as input and give is the output state.\n",
    "\n",
    "**Thirdly**, I made the function \"eps\" that return the magnitude (squared) of the difference between that output state and a random state.\n",
    "\n",
    "**Finally**, we search for the minimum value that this function can have using scipy.optemize.minimize .\n",
    " "
   ]
  },
  {
   "cell_type": "markdown",
   "metadata": {},
   "source": [
    "### Details:"
   ]
  },
  {
   "cell_type": "markdown",
   "metadata": {},
   "source": [
    "At the beginning we import all packages we need."
   ]
  },
  {
   "cell_type": "code",
   "execution_count": 1,
   "metadata": {},
   "outputs": [],
   "source": [
    "from qiskit import *\n",
    "import numpy as np\n",
    "from qiskit.visualization import plot_bloch_multivector, plot_histogram\n",
    "from qiskit.quantum_info import random_statevector\n",
    "from scipy import optimize"
   ]
  },
  {
   "cell_type": "code",
   "execution_count": 2,
   "metadata": {},
   "outputs": [],
   "source": [
    "import time\n",
    "from tqdm import tqdm"
   ]
  },
  {
   "cell_type": "markdown",
   "metadata": {},
   "source": [
    "Then starting real code by creating a function that build up the odd block as output matrix.\n",
    "\n",
    "Note: I made my code as general as possible, so it will be helpful for any related project!"
   ]
  },
  {
   "cell_type": "code",
   "execution_count": 3,
   "metadata": {},
   "outputs": [],
   "source": [
    "def odd_block(n=4,th_i=[None],block_name=\"U_i\",par_gate=\"rz\"):\n",
    "    '''\n",
    "    n=number of registers, th_i=list of the block parameters,\n",
    "    par_gate=the desired paramitrized gate to build up the block with\n",
    "    \n",
    "    '''\n",
    "    pii=np.pi\n",
    "    \n",
    "    if th_i[0]==None:\n",
    "        th_i=np.round(np.random.rand(n)*2*pii,3)   #if not given, we generate the parameters randomly as a test\n",
    "                 \n",
    "    qc=QuantumCircuit(n)   #the output quantum circuit\n",
    "    for i in range(n):     #putting all the paramaetric gates as possibilities\n",
    "        if par_gate==\"rz\":\n",
    "            qc.rz(th_i[i],i)\n",
    "        elif par_gate==\"rx\":\n",
    "            qc.rx(th_i[i],i)\n",
    "        elif par_gate==\"ry\":\n",
    "            qc.ry(th_i[i],i)\n",
    "        elif par_gate==\"u1\":\n",
    "            qc.u1(th_i[i],i)\n",
    "        else:\n",
    "            raise Exception(\"the gate should be paramaterized by single parameter!\")\n",
    "            \n",
    "    for i in range(n):       #completing the block\n",
    "        for j in range(i+1,n):\n",
    "            qc.cz(i,j)\n",
    "        \n",
    "            \n",
    "    qc.name = block_name\n",
    "    return qc"
   ]
  },
  {
   "cell_type": "code",
   "execution_count": 4,
   "metadata": {},
   "outputs": [
    {
     "data": {
      "text/html": [
       "<pre style=\"word-wrap: normal;white-space: pre;background: #fff0;line-height: 1.1;font-family: &quot;Courier New&quot;,Courier,monospace\">     ┌───────────┐                  \n",
       "q_0: ┤ RZ(4.847) ├─■──■──■──────────\n",
       "     └┬──────────┤ │  │  │          \n",
       "q_1: ─┤ RZ(4.94) ├─■──┼──┼──■──■────\n",
       "     ┌┴──────────┤    │  │  │  │    \n",
       "q_2: ┤ RZ(2.995) ├────■──┼──■──┼──■─\n",
       "     ├───────────┤       │     │  │ \n",
       "q_3: ┤ RZ(1.414) ├───────■─────■──■─\n",
       "     └───────────┘                  </pre>"
      ],
      "text/plain": [
       "     ┌───────────┐                  \n",
       "q_0: ┤ RZ(4.847) ├─■──■──■──────────\n",
       "     └┬──────────┤ │  │  │          \n",
       "q_1: ─┤ RZ(4.94) ├─■──┼──┼──■──■────\n",
       "     ┌┴──────────┤    │  │  │  │    \n",
       "q_2: ┤ RZ(2.995) ├────■──┼──■──┼──■─\n",
       "     ├───────────┤       │     │  │ \n",
       "q_3: ┤ RZ(1.414) ├───────■─────■──■─\n",
       "     └───────────┘                  "
      ]
     },
     "execution_count": 4,
     "metadata": {},
     "output_type": "execute_result"
    }
   ],
   "source": [
    "#example\n",
    "odd_block().draw()"
   ]
  },
  {
   "cell_type": "markdown",
   "metadata": {},
   "source": [
    "Function to generate even blocks:"
   ]
  },
  {
   "cell_type": "code",
   "execution_count": 5,
   "metadata": {},
   "outputs": [],
   "source": [
    "def even_block(n=4,th_i=[None],block_name=\"U_i\",par_gate=\"rx\"):\n",
    "    pii=np.pi\n",
    "    if th_i[0]==None:\n",
    "        th_i=np.round(np.random.rand(n)*2*pii,3)\n",
    "        \n",
    "    qc=QuantumCircuit(n)\n",
    "    for i in range(n):\n",
    "        if par_gate==\"rz\":\n",
    "            qc.rz(th_i[i],i)\n",
    "        elif par_gate==\"rx\":\n",
    "            qc.rx(th_i[i],i)\n",
    "        elif par_gate==\"ry\":\n",
    "            qc.ry(th_i[i],i)\n",
    "        elif par_gate==\"u1\":\n",
    "            qc.u1(th_i[i],i)\n",
    "        else:\n",
    "            raise Exception(\"the gate should be paramaterized by single parameter!\")\n",
    "            \n",
    "    qc.name = block_name\n",
    "    return qc"
   ]
  },
  {
   "cell_type": "code",
   "execution_count": 6,
   "metadata": {},
   "outputs": [
    {
     "data": {
      "text/html": [
       "<pre style=\"word-wrap: normal;white-space: pre;background: #fff0;line-height: 1.1;font-family: &quot;Courier New&quot;,Courier,monospace\">     ┌───────────┐\n",
       "q_0: ┤ RX(3.405) ├\n",
       "     ├───────────┤\n",
       "q_1: ┤ RX(2.489) ├\n",
       "     ├───────────┤\n",
       "q_2: ┤ RX(5.988) ├\n",
       "     ├───────────┤\n",
       "q_3: ┤ RX(2.065) ├\n",
       "     └───────────┘</pre>"
      ],
      "text/plain": [
       "     ┌───────────┐\n",
       "q_0: ┤ RX(3.405) ├\n",
       "     ├───────────┤\n",
       "q_1: ┤ RX(2.489) ├\n",
       "     ├───────────┤\n",
       "q_2: ┤ RX(5.988) ├\n",
       "     ├───────────┤\n",
       "q_3: ┤ RX(2.065) ├\n",
       "     └───────────┘"
      ]
     },
     "execution_count": 6,
     "metadata": {},
     "output_type": "execute_result"
    }
   ],
   "source": [
    "#example\n",
    "even_block().draw()"
   ]
  },
  {
   "cell_type": "markdown",
   "metadata": {},
   "source": [
    "Then, Function to add layer/s to a quantum circuit."
   ]
  },
  {
   "cell_type": "code",
   "execution_count": 7,
   "metadata": {},
   "outputs": [],
   "source": [
    "def add_layers(qc, L=1 , pair_blocks=[\"rz\",\"rx\"], th_in=[[None]]):\n",
    "    '''\n",
    "    qc=Quantum Circuit to be layered, pair_blocks=list of the 2 parametrized gates forming the layer,\n",
    "    th_in=all parameters, I.E.: th_in=[[block 1 n parameters],[block 2 n parameters],...]\n",
    "    '''\n",
    "    \n",
    "    n=qc.num_qubits\n",
    "    \n",
    "    if th_in[0][0]==None:\n",
    "        th_in= np.round(np.random.rand(2*L,n)*2*pii,3)  #if not given, we generate the parameters randomly as a test\n",
    "    else:\n",
    "        L=int(len(th_in)/2)              #else, the matrix should convey L and n\n",
    "        n=int(len(th_in[0]))\n",
    "        \n",
    "    #starting adding layers    \n",
    "    for i in range(L):\n",
    "        odd_name=\"U_{}\".format(i*2+1)        #naming the odd block\n",
    "        even_name=\"U_{}\".format((i+1)*2)     #naming the even block\n",
    "        odd = odd_block(n,th_i=th_in[i*2],block_name=odd_name,par_gate=pair_blocks[0])   #preparing the odd block\n",
    "        even= even_block(n,th_i=th_in[(i*2)+1],block_name=even_name,par_gate=pair_blocks[1]) #preparing the even block\n",
    "        \n",
    "        #add odd and even block as one layer\n",
    "        qc.append(odd,range(n)) \n",
    "        qc.append(even,range(n))\n",
    "        qc.barrier()"
   ]
  },
  {
   "cell_type": "code",
   "execution_count": 8,
   "metadata": {},
   "outputs": [
    {
     "data": {
      "text/html": [
       "<pre style=\"word-wrap: normal;white-space: pre;background: #fff0;line-height: 1.1;font-family: &quot;Courier New&quot;,Courier,monospace\">     ┌──────┐┌──────┐ ░ \n",
       "q_0: ┤0     ├┤0     ├─░─\n",
       "     │      ││      │ ░ \n",
       "q_1: ┤1     ├┤1     ├─░─\n",
       "     │  U_1 ││  U_2 │ ░ \n",
       "q_2: ┤2     ├┤2     ├─░─\n",
       "     │      ││      │ ░ \n",
       "q_3: ┤3     ├┤3     ├─░─\n",
       "     └──────┘└──────┘ ░ </pre>"
      ],
      "text/plain": [
       "     ┌──────┐┌──────┐ ░ \n",
       "q_0: ┤0     ├┤0     ├─░─\n",
       "     │      ││      │ ░ \n",
       "q_1: ┤1     ├┤1     ├─░─\n",
       "     │  U_1 ││  U_2 │ ░ \n",
       "q_2: ┤2     ├┤2     ├─░─\n",
       "     │      ││      │ ░ \n",
       "q_3: ┤3     ├┤3     ├─░─\n",
       "     └──────┘└──────┘ ░ "
      ]
     },
     "execution_count": 8,
     "metadata": {},
     "output_type": "execute_result"
    }
   ],
   "source": [
    "#example\n",
    "qc=QuantumCircuit(4)\n",
    "add_layers(qc,th_in=[[1,2,2,1],[1,2,1,1]])\n",
    "qc.draw()"
   ]
  },
  {
   "cell_type": "markdown",
   "metadata": {},
   "source": [
    "extracting the resulting state:"
   ]
  },
  {
   "cell_type": "code",
   "execution_count": 9,
   "metadata": {},
   "outputs": [],
   "source": [
    "def psi_th(th_in, pair_blocks=[\"rz\",\"rx\"]):\n",
    "    \n",
    "    n=int(len(th_in[0]))   #this will give the number of registers\n",
    "    qc=QuantumCircuit(n)\n",
    "    \n",
    "    add_layers(qc, pair_blocks, th_in=th_in)\n",
    "    \n",
    "    # Let's see the result\n",
    "    backend = Aer.get_backend('statevector_simulator')\n",
    "    final_state = execute(qc,backend).result().get_statevector()\n",
    "    return final_state"
   ]
  },
  {
   "cell_type": "code",
   "execution_count": 10,
   "metadata": {},
   "outputs": [
    {
     "data": {
      "text/latex": [
       "$\\displaystyle \n",
       "\\text{Statevector} = \\begin{bmatrix}\n",
       "0.36517 \\\\\n",
       "-0.1995i \\\\\n",
       "-0.56873i \\\\\n",
       "-0.3107 \\\\\n",
       "-0.1995i \\\\\n",
       "-0.10899 \\\\\n",
       "-0.3107 \\\\\n",
       "0.16973i \\\\\n",
       "-0.1995i \\\\\n",
       "-0.10899 \\\\\n",
       "-0.3107 \\\\\n",
       "0.16973i \\\\\n",
       "-0.10899 \\\\\n",
       "0.05954i \\\\\n",
       "0.16973i \\\\\n",
       "0.09273\n",
       "\\end{bmatrix}\n",
       "$"
      ],
      "text/plain": [
       "<IPython.core.display.Math object>"
      ]
     },
     "metadata": {},
     "output_type": "display_data"
    }
   ],
   "source": [
    "#example\n",
    "final_state=psi_th([[1,2,2,1],[1,2,1,1]])\n",
    "from qiskit_textbook.tools import array_to_latex        #I will use extra tool, just for the example\n",
    "array_to_latex(final_state, pretext=\"\\\\text{Statevector} = \")"
   ]
  },
  {
   "cell_type": "markdown",
   "metadata": {},
   "source": [
    "Finally, a function that return the norm^2 of the difference between the final state and some other random state."
   ]
  },
  {
   "cell_type": "code",
   "execution_count": 11,
   "metadata": {},
   "outputs": [],
   "source": [
    "n=4\n",
    "phi=random_statevector(2**n).data\n",
    "def eps(unzipped_th_in):  #the function to be minimized\n",
    "    '''\n",
    "    unzipped_th_in= the parameters matrix but in form of one list,\n",
    "    this is for minimizing as we need the parameters to be in one array\n",
    "    '''\n",
    "    \n",
    "    #n=4 #number of register\n",
    "    #re zipping the parameters in matrix form\n",
    "    th_in = [unzipped_th_in[x:x+n] for x in range(0, len(unzipped_th_in), n)]\n",
    "    \n",
    "    psi=psi_th(th_in)                  #the output state\n",
    "    #phi=random_statevector(2**n).data  #the random state #define it out of this function to have it the same for the whole graph\n",
    "    dif=np.array(psi)-np.array(phi) #the difference between two states\n",
    "    \n",
    "    epslon= np.dot(np.transpose(np.conjugate(dif)),dif)  #the magnitude squared\n",
    "    \n",
    "    return np.sqrt(np.real(epslon))   #as the value will be in form 3.21+0j"
   ]
  },
  {
   "cell_type": "code",
   "execution_count": 12,
   "metadata": {},
   "outputs": [
    {
     "data": {
      "text/plain": [
       "1.5396510645735502"
      ]
     },
     "execution_count": 12,
     "metadata": {},
     "output_type": "execute_result"
    }
   ],
   "source": [
    "#example\n",
    "eps([1,2,4,1,1,2,1,1])"
   ]
  },
  {
   "cell_type": "markdown",
   "metadata": {},
   "source": [
    "Finally the minimum set of all parameters that minimize that difference (2 layer example)"
   ]
  },
  {
   "cell_type": "code",
   "execution_count": 13,
   "metadata": {},
   "outputs": [],
   "source": [
    "#example\n",
    "pii=np.pi\n",
    "x0=np.random.rand(4*2) #initial random guess\n",
    "result=optimize.minimize(eps,x0,bounds=((0,2*pii),)*4*2)"
   ]
  },
  {
   "cell_type": "code",
   "execution_count": 14,
   "metadata": {},
   "outputs": [
    {
     "data": {
      "text/plain": [
       "      fun: 0.8659610248567533\n",
       " hess_inv: <8x8 LbfgsInvHessProduct with dtype=float64>\n",
       "      jac: array([0.00000000e+00, 0.00000000e+00, 0.00000000e+00, 0.00000000e+00,\n",
       "       2.24498531e-02, 7.32747196e-07, 4.32986980e-07, 1.99840144e-07])\n",
       "  message: b'CONVERGENCE: NORM_OF_PROJECTED_GRADIENT_<=_PGTOL'\n",
       "     nfev: 216\n",
       "      nit: 13\n",
       "   status: 0\n",
       "  success: True\n",
       "        x: array([0.99107331, 0.97164242, 0.47882875, 0.95122205, 0.        ,\n",
       "       0.2711395 , 3.04523723, 4.99511444])"
      ]
     },
     "execution_count": 14,
     "metadata": {},
     "output_type": "execute_result"
    }
   ],
   "source": [
    "result"
   ]
  },
  {
   "cell_type": "markdown",
   "metadata": {},
   "source": [
    "Now, using these function we can simply generate a graph between the number of layers and the minimum difference reached."
   ]
  },
  {
   "cell_type": "markdown",
   "metadata": {},
   "source": [
    "### 3. Plotting"
   ]
  },
  {
   "cell_type": "markdown",
   "metadata": {},
   "source": [
    "Now, we have everything to begin plotting, including the bonus point, as we can plot for any given parametrized pairs."
   ]
  },
  {
   "cell_type": "markdown",
   "metadata": {},
   "source": [
    "Lets define a function that return $x$ values(layers) and $y$ values $\\epsilon_{min}$ to be plotted."
   ]
  },
  {
   "cell_type": "code",
   "execution_count": 15,
   "metadata": {},
   "outputs": [],
   "source": [
    "def layers_vs_eps_min(max_layers=5, pair_blocks=[\"rz\",\"rx\"], n=4, phi=[None], maxiter=5000):\n",
    "\n",
    "    pii=np.pi\n",
    "    \n",
    "    if phi[0]==None:\n",
    "        phi=random_statevector(2**n).data\n",
    "    \n",
    "    #now change the structure of eps function according to the desired info, AS IT DEPENDS ON n\n",
    "    def eps(unzipped_th_in):  \n",
    "        th_in = [unzipped_th_in[x:x+n] for x in range(0, len(unzipped_th_in), n)]\n",
    "        psi=psi_th(th_in,pair_blocks=pair_blocks)                  #the output state\n",
    "        dif=np.array(psi)-np.array(phi)\n",
    "        epslon= np.dot(np.transpose(np.conjugate(dif)),dif)\n",
    "        return np.sqrt(np.real(epslon))\n",
    "    \n",
    "    layers=list(range(0,max_layers+1))  # x values \n",
    "    eps_mins=[]       #y values\n",
    "    \n",
    "    for l in tqdm(range(1,max_layers+1)):  #tdqm to monitor timing and progress\n",
    "    \n",
    "        #minimize\n",
    "        x0=np.random.rand(n*2*l) #initial random guess\n",
    "\n",
    "        bounds=[[0,2*pii]]*n*2*l  #bounds\n",
    "        cons = []         #bounds into constrants\n",
    "        for factor in range(len(bounds)):\n",
    "            lower, upper = bounds[factor]\n",
    "            l = {'type': 'ineq',\n",
    "                 'fun': lambda x, lb=lower, i=factor: x[i] - lb}\n",
    "            u = {'type': 'ineq',\n",
    "                 'fun': lambda x, ub=upper, i=factor: ub - x[i]}\n",
    "            cons.append(l)\n",
    "            cons.append(u)\n",
    "        \n",
    "        #COBYLA method worked fastest with me so I used it\n",
    "        result = optimize.minimize(eps,x0,constraints=cons,method='COBYLA',\n",
    "                                   options={'rhobeg': 0.3, 'maxiter': maxiter, 'disp': False, 'catol': 0.0002})\n",
    "\n",
    "        eps_min=eps(result.x)\n",
    "            \n",
    "        eps_mins.append(eps_min)\n",
    "        \n",
    "    #if no layers l=0, then eps is just the magnitude (squared) of phi, if we have initial state |000..>\n",
    "    psi0=np.array([1]+[0]*(2**n-1))   #|000..>\n",
    "    dif=np.array(psi0)-np.array(phi)\n",
    "    eps0= np.dot(np.transpose(np.conjugate(dif)),dif)\n",
    "    eps_mins=[np.sqrt(np.real(eps0))]+eps_mins\n",
    "    return [layers , eps_mins]     #[x_values, y_values]"
   ]
  },
  {
   "cell_type": "markdown",
   "metadata": {},
   "source": [
    "Now, we have the function ready lets execute it for differnet parametrized gate pairs then plot the result. "
   ]
  },
  {
   "cell_type": "code",
   "execution_count": 16,
   "metadata": {},
   "outputs": [],
   "source": [
    "#Having Phi for all plots be the same\n",
    "phii=random_statevector(2**4).data"
   ]
  },
  {
   "cell_type": "code",
   "execution_count": 17,
   "metadata": {},
   "outputs": [
    {
     "name": "stderr",
     "output_type": "stream",
     "text": [
      "100%|██████████| 9/9 [39:34<00:00, 263.78s/it]\n"
     ]
    }
   ],
   "source": [
    "#the original given pairs\n",
    "zx=layers_vs_eps_min(max_layers=9, phi=phii)"
   ]
  },
  {
   "cell_type": "code",
   "execution_count": 18,
   "metadata": {},
   "outputs": [
    {
     "data": {
      "text/plain": [
       "[[0, 1, 2, 3, 4, 5, 6, 7, 8, 9],\n",
       " [1.2941699797691038,\n",
       "  1.0182825065673589,\n",
       "  0.7413032733800026,\n",
       "  0.6269428202579244,\n",
       "  0.2691509108847817,\n",
       "  0.20674371698737085,\n",
       "  0.09237222154041512,\n",
       "  0.017471037559198637,\n",
       "  0.00909803961899293,\n",
       "  0.013307469407740495]]"
      ]
     },
     "execution_count": 18,
     "metadata": {},
     "output_type": "execute_result"
    }
   ],
   "source": [
    "zx"
   ]
  },
  {
   "cell_type": "code",
   "execution_count": 19,
   "metadata": {},
   "outputs": [
    {
     "name": "stderr",
     "output_type": "stream",
     "text": [
      "100%|██████████| 9/9 [27:18<00:00, 182.09s/it]\n"
     ]
    }
   ],
   "source": [
    "#reversed given pairs\n",
    "xz=layers_vs_eps_min(max_layers=9, pair_blocks=[\"rx\",\"rz\"], phi=phii)"
   ]
  },
  {
   "cell_type": "code",
   "execution_count": 20,
   "metadata": {},
   "outputs": [
    {
     "data": {
      "text/plain": [
       "[[0, 1, 2, 3, 4, 5, 6, 7, 8, 9],\n",
       " [1.2941699797691038,\n",
       "  1.018282506563964,\n",
       "  0.741303274087154,\n",
       "  0.5691185484916295,\n",
       "  0.3795214933253554,\n",
       "  0.3930270012517865,\n",
       "  0.2731555867493464,\n",
       "  0.07889387761064041,\n",
       "  0.05589403083490907,\n",
       "  0.0143221277967962]]"
      ]
     },
     "execution_count": 20,
     "metadata": {},
     "output_type": "execute_result"
    }
   ],
   "source": [
    "xz"
   ]
  },
  {
   "cell_type": "code",
   "execution_count": 21,
   "metadata": {},
   "outputs": [
    {
     "name": "stderr",
     "output_type": "stream",
     "text": [
      "100%|██████████| 9/9 [33:11<00:00, 221.26s/it]\n"
     ]
    }
   ],
   "source": [
    "#Rz Rz\n",
    "zz=layers_vs_eps_min(max_layers=9, pair_blocks=[\"rz\",\"rz\"], phi=phii)"
   ]
  },
  {
   "cell_type": "code",
   "execution_count": 22,
   "metadata": {},
   "outputs": [
    {
     "data": {
      "text/plain": [
       "[[0, 1, 2, 3, 4, 5, 6, 7, 8, 9],\n",
       " [1.2941699797691038,\n",
       "  1.0182825076984299,\n",
       "  0.7413032725276746,\n",
       "  0.45502958412529365,\n",
       "  0.22833741070527885,\n",
       "  0.20234746462789568,\n",
       "  0.0806855525734165,\n",
       "  0.05654584038746964,\n",
       "  0.002936276758694441,\n",
       "  0.009441123516797337]]"
      ]
     },
     "execution_count": 22,
     "metadata": {},
     "output_type": "execute_result"
    }
   ],
   "source": [
    "zz"
   ]
  },
  {
   "cell_type": "code",
   "execution_count": 23,
   "metadata": {},
   "outputs": [
    {
     "name": "stderr",
     "output_type": "stream",
     "text": [
      "100%|██████████| 9/9 [28:07<00:00, 187.50s/it]\n"
     ]
    }
   ],
   "source": [
    "#Rx Rx\n",
    "xx=layers_vs_eps_min(max_layers=9, pair_blocks=[\"rx\",\"rx\"], phi=phii)"
   ]
  },
  {
   "cell_type": "code",
   "execution_count": 24,
   "metadata": {},
   "outputs": [
    {
     "data": {
      "text/plain": [
       "[[0, 1, 2, 3, 4, 5, 6, 7, 8, 9],\n",
       " [1.2941699797691038,\n",
       "  1.0182825067208854,\n",
       "  0.7413032725166457,\n",
       "  0.7338461016980347,\n",
       "  0.49239545761054443,\n",
       "  0.18106847342653282,\n",
       "  0.06569229235100102,\n",
       "  0.12128047826960237,\n",
       "  0.0002726183653582506,\n",
       "  0.025638240321803778]]"
      ]
     },
     "execution_count": 24,
     "metadata": {},
     "output_type": "execute_result"
    }
   ],
   "source": [
    "xx"
   ]
  },
  {
   "cell_type": "code",
   "execution_count": 25,
   "metadata": {},
   "outputs": [
    {
     "name": "stderr",
     "output_type": "stream",
     "text": [
      "100%|██████████| 9/9 [28:56<00:00, 192.92s/it]\n"
     ]
    }
   ],
   "source": [
    "#Ry Rx \n",
    "yx=layers_vs_eps_min(max_layers=9, pair_blocks=[\"ry\",\"rx\"], phi=phii)"
   ]
  },
  {
   "cell_type": "code",
   "execution_count": 26,
   "metadata": {},
   "outputs": [
    {
     "data": {
      "text/plain": [
       "[[0, 1, 2, 3, 4, 5, 6, 7, 8, 9],\n",
       " [1.2941699797691038,\n",
       "  1.0182825064236118,\n",
       "  0.741303274183954,\n",
       "  0.6796487583751406,\n",
       "  0.13216200067313863,\n",
       "  0.17295514424958203,\n",
       "  0.168016948631603,\n",
       "  0.15873362025610346,\n",
       "  0.006574004440970982,\n",
       "  0.005005986119883746]]"
      ]
     },
     "execution_count": 26,
     "metadata": {},
     "output_type": "execute_result"
    }
   ],
   "source": [
    "yx"
   ]
  },
  {
   "cell_type": "code",
   "execution_count": 27,
   "metadata": {},
   "outputs": [
    {
     "name": "stderr",
     "output_type": "stream",
     "text": [
      "100%|██████████| 9/9 [30:33<00:00, 203.72s/it]\n"
     ]
    }
   ],
   "source": [
    "#Ry U1\n",
    "#this is the real deifferent one\n",
    "yu1=layers_vs_eps_min(max_layers=9, pair_blocks=[\"ry\",\"u1\"], phi=phii)"
   ]
  },
  {
   "cell_type": "code",
   "execution_count": 28,
   "metadata": {},
   "outputs": [
    {
     "data": {
      "text/plain": [
       "[[0, 1, 2, 3, 4, 5, 6, 7, 8, 9],\n",
       " [1.2941699797691038,\n",
       "  1.0182825064384502,\n",
       "  0.741303273944117,\n",
       "  0.6269428110202503,\n",
       "  0.3146505508542136,\n",
       "  0.17373903246133293,\n",
       "  0.18767388896363463,\n",
       "  0.11923083944363334,\n",
       "  0.0100104979753869,\n",
       "  0.04818348799325676]]"
      ]
     },
     "execution_count": 28,
     "metadata": {},
     "output_type": "execute_result"
    }
   ],
   "source": [
    "yu1"
   ]
  },
  {
   "cell_type": "code",
   "execution_count": 29,
   "metadata": {},
   "outputs": [
    {
     "data": {
      "text/plain": [
       "Text(0, 0.5, 'Eps_min')"
      ]
     },
     "execution_count": 29,
     "metadata": {},
     "output_type": "execute_result"
    },
    {
     "data": {
      "image/png": "[encoded data removed]",
      "text/plain": [
       "<Figure size 432x288 with 1 Axes>"
      ]
     },
     "metadata": {
      "needs_background": "light"
     },
     "output_type": "display_data"
    }
   ],
   "source": [
    "import matplotlib.pyplot as plt\n",
    "fig, ax = plt.subplots()\n",
    "ax.plot(zx[0], zx[1], linewidth=1, linestyle='-', marker='.',label=\"[R_z,R_x] layer\")\n",
    "ax.plot(xz[0], xz[1], linewidth=1, linestyle='--', marker='x',label=\"[R_x,R_z] layer\")\n",
    "ax.plot(zz[0], zz[1], linewidth=1, linestyle='--', marker='x',label=\"[R_z,R_z] layer\")\n",
    "ax.plot(xx[0], xx[1], linewidth=1, linestyle='--', marker='x',label=\"[R_x,R_x] layer\")\n",
    "ax.plot(yx[0], yx[1], linewidth=1, linestyle='--', marker='x',label=\"[R_y,R_x] layer\")\n",
    "ax.plot(yu1[0], yu1[1], linewidth=1, linestyle='-.', marker='x',label=\"[R_y,U1] layer\")\n",
    "\n",
    "ax.legend()\n",
    "#ax.set_title(\"\")\n",
    "ax.set_xlabel(\"Number of layers\")\n",
    "ax.set_ylabel(\"Eps_min\")"
   ]
  },
  {
   "cell_type": "markdown",
   "metadata": {},
   "source": [
    "These curves are pretty like $y=A e^{-kx}$ with $A=\\epsilon_{min0}=| |0000> -|\\phi>|$, and $k$ reflects how fast it goes to steady line.\n",
    "\n",
    "Or it can have more general form: $y=\\frac{a}{b+ce^{kx}}$ with $\\frac{a}{b+c}=\\epsilon_{min0}=| |0000> -|\\phi>|$"
   ]
  },
  {
   "cell_type": "markdown",
   "metadata": {},
   "source": [
    "this may also be $\\frac{1}{kx+\\frac{1}{A}}$, But I am more disposed to forms that includes exponential, as curves go down smoothly not with high bending."
   ]
  },
  {
   "cell_type": "markdown",
   "metadata": {},
   "source": [
    "it is not very obvius which curve goes down faster but I can say that $[R_x,R_z]$ layer has the lowest k, while $[R_z,R_x]$ layer and $[R_z,R_z]$ layer have the higher k."
   ]
  }
 ],
 "metadata": {
  "@webio": {
   "lastCommId": null,
   "lastKernelId": null
  },
  "kernelspec": {
   "display_name": "Python 3",
   "language": "python",
   "name": "python3"
  },
  "language_info": {
   "codemirror_mode": {
    "name": "ipython",
    "version": 3
   },
   "file_extension": ".py",
   "mimetype": "text/x-python",
   "name": "python",
   "nbconvert_exporter": "python",
   "pygments_lexer": "ipython3",
   "version": "3.7.6"
  }
 },
 "nbformat": 4,
 "nbformat_minor": 4
}
