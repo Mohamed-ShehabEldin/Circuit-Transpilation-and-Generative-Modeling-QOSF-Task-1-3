{
 "cells": [
  {
   "cell_type": "markdown",
   "metadata": {},
   "source": [
    "<center> <h1>Quantifying Circuit Involvement Implementation</h1> </center>\n",
    "<center> <h3>A complementary Part of: QOSF Task 3 Tackling: Circuit Transpilation and Overhead Analysis</h3> </center>\n",
    "\n",
    "<center> <h4>Using Python & Qiskit</h4> </center>\n",
    "<br>\n",
    "\n",
    "<center> <h4>Mohamed Sami ShehabEldin</h4> </center>\n",
    "<center> <h5>Zewail City of Science and Technology</h5> </center>"
   ]
  },
  {
   "cell_type": "markdown",
   "metadata": {},
   "source": [
    "In this part I will not write too much, and I will use python comments. As this notebook is meant to be just implementation and results showing of the Idea discussed in the main notebook. there is some redundancy in cell numbering as I restart the kernel for each case of the 4 cases. Because Qiskit State Tomography cannot work after using it many times. (BrokenProcessPool: A process in the process pool was terminated abruptly while the future was running or pending.) (I failed in my search for this problem solution)."
   ]
  },
  {
   "cell_type": "markdown",
   "metadata": {},
   "source": [
    "I use tomography for the sake of generalization, as this will also work for real fault gates.\n",
    "(Initially, I had this idea to make some analysis about quantum error, and to detect some pattern)"
   ]
  },
  {
   "cell_type": "code",
   "execution_count": 1,
   "metadata": {},
   "outputs": [],
   "source": [
    "#First import needed packages\n",
    "from qiskit import *\n",
    "from qiskit.ignis.verification import state_tomography_circuits,StateTomographyFitter\n",
    "from qiskit import QuantumCircuit, execute, Aer, QuantumRegister, ClassicalRegister\n",
    "import numpy as np\n",
    "from numpy import linalg as LA\n",
    "import matplotlib.pyplot as plt"
   ]
  },
  {
   "cell_type": "markdown",
   "metadata": {},
   "source": [
    "### Function 1 of 2: Density trip in the Quantum Circuit"
   ]
  },
  {
   "cell_type": "markdown",
   "metadata": {},
   "source": [
    "Given a quantum circuit this function will compute the density matrix for the resulting state from just applying $1^{st}$ gate of the circuit, then from applying $1^{st}$ and $2^{ed}$, then $1^{st}$, $2^{ed}$ and $3^{ed}$, and so on till applying all the gates in the circuit(circuit itself)."
   ]
  },
  {
   "cell_type": "code",
   "execution_count": 2,
   "metadata": {},
   "outputs": [],
   "source": [
    "#I will impelement that in reversed manner, I.E get density of the circuit then pop the last gate and loop. \n",
    "def qc_trip(qc):\n",
    "    qcc=qc.copy()   #a mirror circuit to pop from\n",
    "    n=qcc.num_qubits #number of quantum registers\n",
    "    densities=[]\n",
    "    while 1:\n",
    "        tom_circ=state_tomography_circuits(qcc,list(range(n)))   #preparing tomography circuits for all registers\n",
    "        tom_res=execute(tom_circ, Aer.get_backend('qasm_simulator')) #executing tomography circuits\n",
    "        #figuring out the density matrix\n",
    "        stf=StateTomographyFitter(tom_res.result(), tom_circ, meas_basis='Pauli')\n",
    "        density=stf.fit()\n",
    "        \n",
    "        #components=len(qcc.data)\n",
    "        \n",
    "        densities=[density]+densities  #adding this in the right order including the initial state |000..>\n",
    "        if len(qcc.data)>0:\n",
    "            qcc.data.pop()\n",
    "        else:\n",
    "                break\n",
    "\n",
    "    return densities"
   ]
  },
  {
   "cell_type": "markdown",
   "metadata": {},
   "source": [
    "### Function 2 of 2: Trace Distance"
   ]
  },
  {
   "cell_type": "markdown",
   "metadata": {},
   "source": [
    "Just compute the trace distance between 2 density matrices."
   ]
  },
  {
   "cell_type": "code",
   "execution_count": 3,
   "metadata": {},
   "outputs": [],
   "source": [
    "def trace_distance(rho1, rho2):\n",
    "\n",
    "    A = rho1 - rho2\n",
    "    eigA, vecA = LA.eig(A)\n",
    "\n",
    "    t = 0\n",
    "    for j in range(len(eigA)):\n",
    "        if (eigA[j] > 0):\n",
    "            t = t + eigA[j]\n",
    "\n",
    "    return t"
   ]
  },
  {
   "cell_type": "markdown",
   "metadata": {},
   "source": [
    "### Implementation on different cases"
   ]
  },
  {
   "cell_type": "code",
   "execution_count": 4,
   "metadata": {},
   "outputs": [
    {
     "data": {
      "image/png": "[encoded data removed]",
      "text/plain": [
       "<Figure size 418.992x204.68 with 1 Axes>"
      ]
     },
     "execution_count": 4,
     "metadata": {},
     "output_type": "execute_result"
    }
   ],
   "source": [
    "#original circuit\n",
    "qc1=QuantumCircuit(3)\n",
    "qc1.h(0)\n",
    "qc1.cx(0,1)\n",
    "qc1.x([0,1])\n",
    "qc1.h([1,2])\n",
    "\n",
    "qc1.draw(\"mpl\")"
   ]
  },
  {
   "cell_type": "code",
   "execution_count": 4,
   "metadata": {},
   "outputs": [
    {
     "data": {
      "text/html": [
       "<pre style=\"word-wrap: normal;white-space: pre;background: #fff0;line-height: 1.1;font-family: &quot;Courier New&quot;,Courier,monospace\">     ┌──────────┐┌──────────┐┌──────────┐   ┌──────────┐ ┌────────┐ »\n",
       "q_0: ┤ RZ(pi/2) ├┤ RX(pi/2) ├┤ RZ(pi/2) ├─■─┤ RZ(pi/2) ├─┤ RX(pi) ├─»\n",
       "     ├──────────┤├──────────┤├──────────┤ │ ├──────────┤┌┴────────┴┐»\n",
       "q_1: ┤ RZ(pi/2) ├┤ RX(pi/2) ├┤ RZ(pi/2) ├─■─┤ RZ(pi/2) ├┤ RX(pi/2) ├»\n",
       "     ├──────────┤├──────────┤├──────────┤   └──────────┘└──────────┘»\n",
       "q_2: ┤ RZ(pi/2) ├┤ RX(pi/2) ├┤ RZ(pi/2) ├───────────────────────────»\n",
       "     └──────────┘└──────────┘└──────────┘                           »\n",
       "«     ┌──────────┐                                                          »\n",
       "«q_0: ┤ RZ(pi/2) ├──────────────────────────────────────────────────────────»\n",
       "«     ├──────────┤┌──────────┐┌────────┐┌──────────┐┌──────────┐┌──────────┐»\n",
       "«q_1: ┤ RZ(pi/2) ├┤ RZ(pi/2) ├┤ RX(pi) ├┤ RZ(pi/2) ├┤ RZ(pi/2) ├┤ RX(pi/2) ├»\n",
       "«     └──────────┘└──────────┘└────────┘└──────────┘└──────────┘└──────────┘»\n",
       "«q_2: ──────────────────────────────────────────────────────────────────────»\n",
       "«                                                                           »\n",
       "«                 \n",
       "«q_0: ────────────\n",
       "«     ┌──────────┐\n",
       "«q_1: ┤ RZ(pi/2) ├\n",
       "«     └──────────┘\n",
       "«q_2: ────────────\n",
       "«                 </pre>"
      ],
      "text/plain": [
       "     ┌──────────┐┌──────────┐┌──────────┐   ┌──────────┐ ┌────────┐ »\n",
       "q_0: ┤ RZ(pi/2) ├┤ RX(pi/2) ├┤ RZ(pi/2) ├─■─┤ RZ(pi/2) ├─┤ RX(pi) ├─»\n",
       "     ├──────────┤├──────────┤├──────────┤ │ ├──────────┤┌┴────────┴┐»\n",
       "q_1: ┤ RZ(pi/2) ├┤ RX(pi/2) ├┤ RZ(pi/2) ├─■─┤ RZ(pi/2) ├┤ RX(pi/2) ├»\n",
       "     ├──────────┤├──────────┤├──────────┤   └──────────┘└──────────┘»\n",
       "q_2: ┤ RZ(pi/2) ├┤ RX(pi/2) ├┤ RZ(pi/2) ├───────────────────────────»\n",
       "     └──────────┘└──────────┘└──────────┘                           »\n",
       "«     ┌──────────┐                                                          »\n",
       "«q_0: ┤ RZ(pi/2) ├──────────────────────────────────────────────────────────»\n",
       "«     ├──────────┤┌──────────┐┌────────┐┌──────────┐┌──────────┐┌──────────┐»\n",
       "«q_1: ┤ RZ(pi/2) ├┤ RZ(pi/2) ├┤ RX(pi) ├┤ RZ(pi/2) ├┤ RZ(pi/2) ├┤ RX(pi/2) ├»\n",
       "«     └──────────┘└──────────┘└────────┘└──────────┘└──────────┘└──────────┘»\n",
       "«q_2: ──────────────────────────────────────────────────────────────────────»\n",
       "«                                                                           »\n",
       "«                 \n",
       "«q_0: ────────────\n",
       "«     ┌──────────┐\n",
       "«q_1: ┤ RZ(pi/2) ├\n",
       "«     └──────────┘\n",
       "«q_2: ────────────\n",
       "«                 "
      ]
     },
     "execution_count": 4,
     "metadata": {},
     "output_type": "execute_result"
    }
   ],
   "source": [
    "#transpiled circuit\n",
    "pi=np.pi\n",
    "qc2=QuantumCircuit(3)\n",
    "qc2.rz(pi/2,0)\n",
    "qc2.rx(pi/2,0)\n",
    "qc2.rz(pi/2,0)\n",
    "qc2.rz(pi/2,1)\n",
    "qc2.rx(pi/2,1)\n",
    "qc2.rz(pi/2,1)\n",
    "qc2.cz(0,1)\n",
    "qc2.rz(pi/2,1)\n",
    "qc2.rx(pi/2,1)\n",
    "qc2.rz(pi/2,1)\n",
    "qc2.rz(pi/2,[0,1])\n",
    "qc2.rx(pi,[0,1])\n",
    "qc2.rz(pi/2,[0,1])\n",
    "qc2.rz(pi/2,[1,2])\n",
    "qc2.rx(pi/2,[1,2])\n",
    "qc2.rz(pi/2,[1,2])\n",
    "qc2.draw()   #if I draw(\"mpl\") the tomography error appear, have no idea!"
   ]
  },
  {
   "cell_type": "code",
   "execution_count": 4,
   "metadata": {},
   "outputs": [
    {
     "data": {
      "text/html": [
       "<pre style=\"word-wrap: normal;white-space: pre;background: #fff0;line-height: 1.1;font-family: &quot;Courier New&quot;,Courier,monospace\">     ┌───┐┌───┐┌───┐┌───┐     ┌───┐┌───┐┌───┐┌───┐               \n",
       "q_0: ┤ I ├┤ H ├┤ I ├┤ I ├──■──┤ I ├┤ I ├┤ X ├┤ I ├───────────────\n",
       "     ├───┤└───┘└───┘└───┘┌─┴─┐├───┤├───┤├───┤├───┤┌───┐┌───┐┌───┐\n",
       "q_1: ┤ I ├───────────────┤ X ├┤ I ├┤ I ├┤ X ├┤ I ├┤ I ├┤ H ├┤ I ├\n",
       "     ├───┤┌───┐┌───┐     └───┘└───┘└───┘└───┘└───┘└───┘└───┘└───┘\n",
       "q_2: ┤ I ├┤ H ├┤ I ├─────────────────────────────────────────────\n",
       "     └───┘└───┘└───┘                                             </pre>"
      ],
      "text/plain": [
       "     ┌───┐┌───┐┌───┐┌───┐     ┌───┐┌───┐┌───┐┌───┐               \n",
       "q_0: ┤ I ├┤ H ├┤ I ├┤ I ├──■──┤ I ├┤ I ├┤ X ├┤ I ├───────────────\n",
       "     ├───┤└───┘└───┘└───┘┌─┴─┐├───┤├───┤├───┤├───┤┌───┐┌───┐┌───┐\n",
       "q_1: ┤ I ├───────────────┤ X ├┤ I ├┤ I ├┤ X ├┤ I ├┤ I ├┤ H ├┤ I ├\n",
       "     ├───┤┌───┐┌───┐     └───┘└───┘└───┘└───┘└───┘└───┘└───┘└───┘\n",
       "q_2: ┤ I ├┤ H ├┤ I ├─────────────────────────────────────────────\n",
       "     └───┘└───┘└───┘                                             "
      ]
     },
     "execution_count": 4,
     "metadata": {},
     "output_type": "execute_result"
    }
   ],
   "source": [
    "#dummy transpiled circuit (non significant gates)\n",
    "qc3=QuantumCircuit(3)\n",
    "qc3.i(0)\n",
    "qc3.h(0)\n",
    "qc3.i(0)\n",
    "qc3.i([0,1])\n",
    "qc3.cx(0,1)\n",
    "qc3.i([0,1])\n",
    "qc3.i([0,1])\n",
    "qc3.x([0,1])\n",
    "qc3.i([0,1])\n",
    "qc3.i([1,2])\n",
    "qc3.h([1,2])\n",
    "qc3.i([1,2])\n",
    "\n",
    "qc3.draw()"
   ]
  },
  {
   "cell_type": "code",
   "execution_count": 4,
   "metadata": {},
   "outputs": [
    {
     "data": {
      "text/html": [
       "<pre style=\"word-wrap: normal;white-space: pre;background: #fff0;line-height: 1.1;font-family: &quot;Courier New&quot;,Courier,monospace\">     ┌──────────┐┌──────────┐┌──────────┐    ┌──────────┐┌────────┐┌──────────┐\n",
       "q_0: ┤ RZ(pi/2) ├┤ RX(pi/2) ├┤ RZ(pi/2) ├─■──┤ RZ(pi/2) ├┤ RX(pi) ├┤ RZ(pi/2) ├\n",
       "     ├──────────┤├──────────┤└──────────┘ │ ┌┴──────────┤└────────┘└──────────┘\n",
       "q_1: ┤ RZ(pi/2) ├┤ RX(pi/2) ├─────────────■─┤ RZ(3pi/2) ├──────────────────────\n",
       "     ├──────────┤├──────────┤┌──────────┐   └───────────┘                      \n",
       "q_2: ┤ RZ(pi/2) ├┤ RX(pi/2) ├┤ RZ(pi/2) ├──────────────────────────────────────\n",
       "     └──────────┘└──────────┘└──────────┘                                      </pre>"
      ],
      "text/plain": [
       "     ┌──────────┐┌──────────┐┌──────────┐    ┌──────────┐┌────────┐┌──────────┐\n",
       "q_0: ┤ RZ(pi/2) ├┤ RX(pi/2) ├┤ RZ(pi/2) ├─■──┤ RZ(pi/2) ├┤ RX(pi) ├┤ RZ(pi/2) ├\n",
       "     ├──────────┤├──────────┤└──────────┘ │ ┌┴──────────┤└────────┘└──────────┘\n",
       "q_1: ┤ RZ(pi/2) ├┤ RX(pi/2) ├─────────────■─┤ RZ(3pi/2) ├──────────────────────\n",
       "     ├──────────┤├──────────┤┌──────────┐   └───────────┘                      \n",
       "q_2: ┤ RZ(pi/2) ├┤ RX(pi/2) ├┤ RZ(pi/2) ├──────────────────────────────────────\n",
       "     └──────────┘└──────────┘└──────────┘                                      "
      ]
     },
     "execution_count": 4,
     "metadata": {},
     "output_type": "execute_result"
    }
   ],
   "source": [
    "#transpiled reduced circuit\n",
    "pii=np.pi\n",
    "qc4=QuantumCircuit(3)\n",
    "qc4.rz(pii/2,0)\n",
    "qc4.rx(pii/2,0)\n",
    "qc4.rz(pii/2,0)\n",
    "qc4.rz(pii/2,1)\n",
    "qc4.rx(pii/2,1)\n",
    "qc4.cz(0,1)\n",
    "qc4.rz(3*pii/2,1)\n",
    "qc4.rz(pii/2,0)\n",
    "qc4.rx(pii,0)\n",
    "qc4.rz(pii/2,0)\n",
    "qc4.rz(pii/2,2)\n",
    "qc4.rx(pii/2,2)\n",
    "qc4.rz(pii/2,2)\n",
    "qc4.draw()"
   ]
  },
  {
   "cell_type": "markdown",
   "metadata": {},
   "source": [
    "computing the circuit trip for each"
   ]
  },
  {
   "cell_type": "code",
   "execution_count": 5,
   "metadata": {},
   "outputs": [],
   "source": [
    "a=qc_trip(qc1)"
   ]
  },
  {
   "cell_type": "code",
   "execution_count": 5,
   "metadata": {},
   "outputs": [],
   "source": [
    "b=qc_trip(qc2)"
   ]
  },
  {
   "cell_type": "code",
   "execution_count": 5,
   "metadata": {},
   "outputs": [],
   "source": [
    "c=qc_trip(qc3)"
   ]
  },
  {
   "cell_type": "code",
   "execution_count": 5,
   "metadata": {
    "scrolled": true
   },
   "outputs": [],
   "source": [
    "d=qc_trip(qc4)"
   ]
  },
  {
   "cell_type": "markdown",
   "metadata": {},
   "source": [
    "then compute the State trip as defined in the main notebook."
   ]
  },
  {
   "cell_type": "code",
   "execution_count": 6,
   "metadata": {},
   "outputs": [],
   "source": [
    "state_trip_a=[]   #a list of StateTrips for all circuit components\n",
    "for i in range(len(a)):\n",
    "    state_trip_a.append(trace_distance(a[0],a[i]))\n",
    "state_trip_a=np.round(np.real(state_trip_a),4)   #just make the number format looks better than (0.572359378284378+10e-19j)"
   ]
  },
  {
   "cell_type": "code",
   "execution_count": 6,
   "metadata": {},
   "outputs": [],
   "source": [
    "state_trip_b=[]\n",
    "for i in range(len(b)):\n",
    "    state_trip_b.append(trace_distance(b[0],b[i]))\n",
    "state_trip_b=np.round(np.real(state_trip_b),4)"
   ]
  },
  {
   "cell_type": "code",
   "execution_count": 6,
   "metadata": {},
   "outputs": [],
   "source": [
    "state_trip_c=[]\n",
    "for i in range(len(c)):\n",
    "    state_trip_c.append(trace_distance(c[0],c[i]))\n",
    "state_trip_c=np.round(np.real(state_trip_c),4)"
   ]
  },
  {
   "cell_type": "code",
   "execution_count": 6,
   "metadata": {},
   "outputs": [],
   "source": [
    "state_trip_d=[]\n",
    "for i in range(len(d)):\n",
    "    state_trip_d.append(trace_distance(d[0],d[i]))\n",
    "state_trip_d=np.round(np.real(state_trip_d),4)"
   ]
  },
  {
   "cell_type": "markdown",
   "metadata": {},
   "source": [
    "then compute the gate trip as defined in the main notebook."
   ]
  },
  {
   "cell_type": "code",
   "execution_count": 7,
   "metadata": {},
   "outputs": [],
   "source": [
    "gate_trip_a=[]\n",
    "for i in range(len(a)):\n",
    "    if i==0:\n",
    "        gate_trip_a.append(0)\n",
    "    else:\n",
    "        gate_trip_a.append(trace_distance(a[i-1],a[i]))\n",
    "        \n",
    "gate_trip_a=np.round(np.real(gate_trip_a),4)"
   ]
  },
  {
   "cell_type": "code",
   "execution_count": 7,
   "metadata": {},
   "outputs": [],
   "source": [
    "gate_trip_b=[]\n",
    "for i in range(len(b)):\n",
    "    if i==0:\n",
    "        gate_trip_b.append(0)\n",
    "    else:\n",
    "        gate_trip_b.append(trace_distance(b[i-1],b[i]))\n",
    "        \n",
    "gate_trip_b=np.round(np.real(gate_trip_b),4)"
   ]
  },
  {
   "cell_type": "code",
   "execution_count": 7,
   "metadata": {},
   "outputs": [],
   "source": [
    "gate_trip_c=[]\n",
    "for i in range(len(c)):\n",
    "    if i==0:\n",
    "        gate_trip_c.append(0)\n",
    "    else:\n",
    "        gate_trip_c.append(trace_distance(c[i-1],c[i]))\n",
    "        \n",
    "gate_trip_c=np.round(np.real(gate_trip_c),4)"
   ]
  },
  {
   "cell_type": "code",
   "execution_count": 7,
   "metadata": {},
   "outputs": [],
   "source": [
    "gate_trip_d=[]\n",
    "for i in range(len(d)):\n",
    "    if i==0:\n",
    "        gate_trip_d.append(0)\n",
    "    else:\n",
    "        gate_trip_d.append(trace_distance(d[i-1],d[i]))\n",
    "        \n",
    "gate_trip_d=np.round(np.real(gate_trip_d),4)"
   ]
  },
  {
   "cell_type": "markdown",
   "metadata": {},
   "source": [
    "Now, let's plot the state trip and Gate trip.\n",
    "\n",
    "This will give an intuition why this method work."
   ]
  },
  {
   "cell_type": "code",
   "execution_count": 8,
   "metadata": {},
   "outputs": [
    {
     "data": {
      "text/plain": [
       "Text(0, 0.5, 'Trace Distances')"
      ]
     },
     "execution_count": 8,
     "metadata": {},
     "output_type": "execute_result"
    },
    {
     "data": {
      "image/png": "[encoded data removed]",
      "text/plain": [
       "<Figure size 432x288 with 1 Axes>"
      ]
     },
     "metadata": {
      "needs_background": "light"
     },
     "output_type": "display_data"
    }
   ],
   "source": [
    "fig, ax = plt.subplots()\n",
    "ax.plot(list(range(len(state_trip_a))), state_trip_a, linewidth=1, linestyle='-', marker='.',color=\"b\",label=\"StateTrip\")\n",
    "ax.plot(list(range(len(gate_trip_a))), gate_trip_a, linewidth=1, linestyle='--', marker='x',color=\"r\",label=\"GateTrip\")\n",
    "ax.legend()\n",
    "ax.set_title(\"Original Quanttum Circuit\")\n",
    "ax.set_xlabel(\"Circuit Components\")\n",
    "ax.set_ylabel(\"Trace Distances\")"
   ]
  },
  {
   "cell_type": "code",
   "execution_count": 9,
   "metadata": {},
   "outputs": [
    {
     "data": {
      "text/plain": [
       "Text(0, 0.5, 'Trace Distances')"
      ]
     },
     "execution_count": 9,
     "metadata": {},
     "output_type": "execute_result"
    },
    {
     "data": {
      "image/png": "[encoded data removed]",
      "text/plain": [
       "<Figure size 432x288 with 1 Axes>"
      ]
     },
     "metadata": {
      "needs_background": "light"
     },
     "output_type": "display_data"
    }
   ],
   "source": [
    "fig, ax = plt.subplots()\n",
    "ax.plot(list(range(len(state_trip_b))), state_trip_b, linewidth=1, linestyle='-', marker='.',color=\"b\",label=\"StateTrip\")\n",
    "ax.plot(list(range(len(gate_trip_b))), gate_trip_b, linewidth=1, linestyle='--', marker='x',color=\"r\",label=\"GateTrip\")\n",
    "ax.legend()\n",
    "ax.set_title(\"Transpiled Quanttum Circuit\")\n",
    "ax.set_xlabel(\"Circuit Components\")\n",
    "ax.set_ylabel(\"Trace Distances\")"
   ]
  },
  {
   "cell_type": "code",
   "execution_count": 8,
   "metadata": {},
   "outputs": [
    {
     "data": {
      "text/plain": [
       "Text(0, 0.5, 'Trace Distances')"
      ]
     },
     "execution_count": 8,
     "metadata": {},
     "output_type": "execute_result"
    },
    {
     "data": {
      "image/png": "[encoded data removed]",
      "text/plain": [
       "<Figure size 432x288 with 1 Axes>"
      ]
     },
     "metadata": {
      "needs_background": "light"
     },
     "output_type": "display_data"
    }
   ],
   "source": [
    "fig, ax = plt.subplots()\n",
    "ax.plot(list(range(len(state_trip_c))), state_trip_c, linewidth=1, linestyle='-', marker='.',color=\"b\", label=\"StateTrip\")\n",
    "ax.plot(list(range(len(gate_trip_c))), gate_trip_c, linewidth=1, linestyle='--', marker='x',color=\"r\",label=\"GateTrip\")\n",
    "ax.legend()\n",
    "ax.set_title(\"Dummy Transpiled Quanttum Circuit\")\n",
    "ax.set_xlabel(\"Circuit Components\")\n",
    "ax.set_ylabel(\"Trace Distances\")"
   ]
  },
  {
   "cell_type": "code",
   "execution_count": 8,
   "metadata": {},
   "outputs": [
    {
     "data": {
      "text/plain": [
       "Text(0, 0.5, 'Trace Distances')"
      ]
     },
     "execution_count": 8,
     "metadata": {},
     "output_type": "execute_result"
    },
    {
     "data": {
      "image/png": "[encoded data removed]",
      "text/plain": [
       "<Figure size 432x288 with 1 Axes>"
      ]
     },
     "metadata": {
      "needs_background": "light"
     },
     "output_type": "display_data"
    }
   ],
   "source": [
    "fig, ax = plt.subplots()\n",
    "ax.plot(list(range(len(state_trip_d))), state_trip_d, linewidth=1, linestyle='-', marker='.',color=\"b\",label=\"StateTrip\")\n",
    "ax.plot(list(range(len(gate_trip_d))), gate_trip_d, linewidth=1, linestyle='--', marker='x',color=\"r\",label=\"GateTrip\")\n",
    "ax.legend()\n",
    "ax.set_title(\"Reduced Transpiled Quanttum Circuit\")\n",
    "ax.set_xlabel(\"Circuit Components\")\n",
    "ax.set_ylabel(\"Trace Distances\")"
   ]
  },
  {
   "cell_type": "markdown",
   "metadata": {},
   "source": [
    "Now lets Compute the Involvement (as defined in the main notebook) for each."
   ]
  },
  {
   "cell_type": "code",
   "execution_count": 10,
   "metadata": {},
   "outputs": [],
   "source": [
    "from scipy.integrate import simps  #any integration will work for these simple sheped graphs"
   ]
  },
  {
   "cell_type": "code",
   "execution_count": 10,
   "metadata": {},
   "outputs": [
    {
     "name": "stdout",
     "output_type": "stream",
     "text": [
      "Involvement of the original circuit:  4.279699999999998\n"
     ]
    }
   ],
   "source": [
    "#involvement of the original circuit\n",
    "involvement_a=simps(state_trip_a)-np.abs(simps(state_trip_a)-simps(gate_trip_a))\n",
    "print(\"Involvement of the original circuit: \", involvement_a)"
   ]
  },
  {
   "cell_type": "code",
   "execution_count": 11,
   "metadata": {},
   "outputs": [
    {
     "name": "stdout",
     "output_type": "stream",
     "text": [
      "Involvement of the transpiled circuit:  14.3159\n"
     ]
    }
   ],
   "source": [
    "#involvement of the transpiled circuit\n",
    "involvement_b=simps(state_trip_b)-np.abs(simps(state_trip_b)-simps(gate_trip_b))\n",
    "print(\"Involvement of the transpiled circuit: \", involvement_b)"
   ]
  },
  {
   "cell_type": "code",
   "execution_count": 11,
   "metadata": {},
   "outputs": [
    {
     "name": "stdout",
     "output_type": "stream",
     "text": [
      "Involvement of the dummy transpiled circuit:  5.386966666666666\n"
     ]
    }
   ],
   "source": [
    "#involvement of the dummy transpiled circuit\n",
    "involvement_c=simps(state_trip_c)-np.abs(simps(state_trip_c)-simps(gate_trip_c))\n",
    "print(\"Involvement of the dummy transpiled circuit: \", involvement_c)"
   ]
  },
  {
   "cell_type": "code",
   "execution_count": 11,
   "metadata": {},
   "outputs": [
    {
     "name": "stdout",
     "output_type": "stream",
     "text": [
      "Involvement of the reduced transpiled circuit:  7.337333333333333\n"
     ]
    }
   ],
   "source": [
    "#involvement of the reduced transpiled circuit\n",
    "involvement_d=simps(state_trip_d)-np.abs(simps(state_trip_d)-simps(gate_trip_d))\n",
    "print(\"Involvement of the reduced transpiled circuit: \", involvement_d)"
   ]
  },
  {
   "cell_type": "markdown",
   "metadata": {},
   "source": [
    "As we see, these results capture what I stated in the main notebook."
   ]
  },
  {
   "cell_type": "markdown",
   "metadata": {},
   "source": [
    "Finally, calculate the OverHead (as defined in the main notebook) between the 2 circuits and see how it changed."
   ]
  },
  {
   "cell_type": "code",
   "execution_count": 12,
   "metadata": {},
   "outputs": [],
   "source": [
    "#I just save the values of involvement here\n",
    "involvement_a= 4.279699999999998     #the original circuit\n",
    "involvement_b= 14.3159      #the transpiled circuit\n",
    "involvement_c= 5.386966666666666     #the dummy transpiled circuit\n",
    "involvement_d= 7.337333333333333     #the reduced transpiled circuit"
   ]
  },
  {
   "cell_type": "code",
   "execution_count": 13,
   "metadata": {},
   "outputs": [
    {
     "name": "stdout",
     "output_type": "stream",
     "text": [
      "transpiled circuit overhead from the original circuit:  10.036200000000001\n"
     ]
    }
   ],
   "source": [
    "#transpiled circuit overhead from the original circuit\n",
    "overhead_ba=involvement_b - involvement_a\n",
    "print(\"transpiled circuit overhead from the original circuit: \", overhead_ba)"
   ]
  },
  {
   "cell_type": "code",
   "execution_count": 14,
   "metadata": {},
   "outputs": [
    {
     "name": "stdout",
     "output_type": "stream",
     "text": [
      "reduced transpiled circuit overhead from the original circuit:  3.0576333333333343\n"
     ]
    }
   ],
   "source": [
    "#reduced transpiled circuit overhead from the original circuit\n",
    "overhead_da=involvement_d - involvement_a\n",
    "print(\"reduced transpiled circuit overhead from the original circuit: \", overhead_da)"
   ]
  },
  {
   "cell_type": "markdown",
   "metadata": {},
   "source": [
    "It Works Smoothly and as expected!"
   ]
  }
 ],
 "metadata": {
  "@webio": {
   "lastCommId": null,
   "lastKernelId": null
  },
  "kernelspec": {
   "display_name": "Python 3",
   "language": "python",
   "name": "python3"
  },
  "language_info": {
   "codemirror_mode": {
    "name": "ipython",
    "version": 3
   },
   "file_extension": ".py",
   "mimetype": "text/x-python",
   "name": "python",
   "nbconvert_exporter": "python",
   "pygments_lexer": "ipython3",
   "version": "3.7.6"
  }
 },
 "nbformat": 4,
 "nbformat_minor": 4
}
