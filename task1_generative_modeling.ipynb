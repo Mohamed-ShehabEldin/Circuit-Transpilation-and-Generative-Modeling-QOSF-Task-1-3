{
 "cells": [
  {
   "cell_type": "markdown",
   "metadata": {},
   "source": [
    "<center> <h1>QOSF Task 1 Tackling: generative modeling</h1> </center>\n",
    "\\\\\n",
    "<center> <h3>Mohamed Sami ShehabEldin</h3> </center>\n",
    "<center> <h4>Zewail City of Science and Technology</h4> </center>"
   ]
  },
  {
   "cell_type": "markdown",
   "metadata": {},
   "source": [
    "**Note**: this is just the workshop for the task, the work may be not detailed. it will be full complete and detailed by the next week (deadline of task submission)"
   ]
  },
  {
   "cell_type": "markdown",
   "metadata": {},
   "source": [
    "### Task Statement:"
   ]
  },
  {
   "cell_type": "markdown",
   "metadata": {},
   "source": [
    "![title](images/c1.png)"
   ]
  },
  {
   "cell_type": "markdown",
   "metadata": {},
   "source": [
    "<img src=\"images/c2.png\" width=\"600\" height=\"100\">"
   ]
  },
  {
   "cell_type": "markdown",
   "metadata": {},
   "source": [
    "<img src=\"images/c3.png\" width=\"600\" height=\"100\">"
   ]
  },
  {
   "cell_type": "markdown",
   "metadata": {},
   "source": [
    "    "
   ]
  },
  {
   "cell_type": "markdown",
   "metadata": {},
   "source": [
    "### Key Functions:"
   ]
  },
  {
   "cell_type": "code",
   "execution_count": 21,
   "metadata": {},
   "outputs": [],
   "source": [
    "from qiskit import *\n",
    "import numpy as np\n",
    "from qiskit.visualization import plot_bloch_multivector, plot_histogram\n",
    "from qiskit.quantum_info import random_statevector\n",
    "from scipy import optimize"
   ]
  },
  {
   "cell_type": "markdown",
   "metadata": {},
   "source": [
    "Function to generate odd blocks:"
   ]
  },
  {
   "cell_type": "code",
   "execution_count": 8,
   "metadata": {},
   "outputs": [],
   "source": [
    "def odd_block(n=4,th_i=[None],block_name=\"U_i\",par_gate=\"rz\"):\n",
    "    pii=np.pi\n",
    "    if th_i[0]==None:\n",
    "        th_i=np.round(np.random.rand(n)*2*pii,3)\n",
    "        \n",
    "    qc=QuantumCircuit(n)\n",
    "    for i in range(n):\n",
    "        if par_gate==\"rz\":\n",
    "            qc.rz(th_i[i],i)\n",
    "        elif par_gate==\"rx\":\n",
    "            qc.rx(th_i[i],i)\n",
    "        elif par_gate==\"ry\":\n",
    "            qc.ry(th_i[i],i)\n",
    "        elif par_gate==\"u1\":\n",
    "            qc.u1(th_i[i],i)\n",
    "        else:\n",
    "            raise Exception(\"the gate should be paramaterized by single parameter!\")\n",
    "            \n",
    "    for i in range(4):\n",
    "        for j in range(i+1,4):\n",
    "            qc.cz(i,j)\n",
    "        \n",
    "            \n",
    "    qc.name = block_name\n",
    "    return qc"
   ]
  },
  {
   "cell_type": "code",
   "execution_count": 9,
   "metadata": {},
   "outputs": [
    {
     "data": {
      "text/html": [
       "<pre style=\"word-wrap: normal;white-space: pre;background: #fff0;line-height: 1.1;font-family: &quot;Courier New&quot;,Courier,monospace\">     ┌───────────┐                  \n",
       "q_0: ┤ RZ(5.636) ├─■──■──■──────────\n",
       "     ├───────────┤ │  │  │          \n",
       "q_1: ┤ RZ(3.081) ├─■──┼──┼──■──■────\n",
       "     ├───────────┤    │  │  │  │    \n",
       "q_2: ┤ RZ(4.275) ├────■──┼──■──┼──■─\n",
       "     ├───────────┤       │     │  │ \n",
       "q_3: ┤ RZ(3.959) ├───────■─────■──■─\n",
       "     └───────────┘                  </pre>"
      ],
      "text/plain": [
       "     ┌───────────┐                  \n",
       "q_0: ┤ RZ(5.636) ├─■──■──■──────────\n",
       "     ├───────────┤ │  │  │          \n",
       "q_1: ┤ RZ(3.081) ├─■──┼──┼──■──■────\n",
       "     ├───────────┤    │  │  │  │    \n",
       "q_2: ┤ RZ(4.275) ├────■──┼──■──┼──■─\n",
       "     ├───────────┤       │     │  │ \n",
       "q_3: ┤ RZ(3.959) ├───────■─────■──■─\n",
       "     └───────────┘                  "
      ]
     },
     "execution_count": 9,
     "metadata": {},
     "output_type": "execute_result"
    }
   ],
   "source": [
    "#example\n",
    "odd_block().draw()"
   ]
  },
  {
   "cell_type": "markdown",
   "metadata": {},
   "source": [
    "Function to generate even blocks:"
   ]
  },
  {
   "cell_type": "code",
   "execution_count": 10,
   "metadata": {},
   "outputs": [],
   "source": [
    "def even_block(n=4,th_i=[None],block_name=\"U_i\",par_gate=\"rx\"):\n",
    "    pii=np.pi\n",
    "    if th_i[0]==None:\n",
    "        th_i=np.round(np.random.rand(n)*2*pii,3)\n",
    "        \n",
    "    qc=QuantumCircuit(n)\n",
    "    for i in range(n):\n",
    "        if par_gate==\"rz\":\n",
    "            qc.rz(th_i[i],i)\n",
    "        elif par_gate==\"rx\":\n",
    "            qc.rx(th_i[i],i)\n",
    "        elif par_gate==\"ry\":\n",
    "            qc.ry(th_i[i],i)\n",
    "        elif par_gate==\"u1\":\n",
    "            qc.u1(th_i[i],i)\n",
    "        else:\n",
    "            raise Exception(\"the gate should be paramaterized by single parameter!\")\n",
    "            \n",
    "    qc.name = block_name\n",
    "    return qc"
   ]
  },
  {
   "cell_type": "code",
   "execution_count": 11,
   "metadata": {},
   "outputs": [
    {
     "data": {
      "text/html": [
       "<pre style=\"word-wrap: normal;white-space: pre;background: #fff0;line-height: 1.1;font-family: &quot;Courier New&quot;,Courier,monospace\">     ┌───────────┐\n",
       "q_0: ┤ RX(4.162) ├\n",
       "     ├───────────┤\n",
       "q_1: ┤ RX(2.777) ├\n",
       "     └┬──────────┤\n",
       "q_2: ─┤ RX(1.55) ├\n",
       "     ┌┴──────────┤\n",
       "q_3: ┤ RX(5.045) ├\n",
       "     └───────────┘</pre>"
      ],
      "text/plain": [
       "     ┌───────────┐\n",
       "q_0: ┤ RX(4.162) ├\n",
       "     ├───────────┤\n",
       "q_1: ┤ RX(2.777) ├\n",
       "     └┬──────────┤\n",
       "q_2: ─┤ RX(1.55) ├\n",
       "     ┌┴──────────┤\n",
       "q_3: ┤ RX(5.045) ├\n",
       "     └───────────┘"
      ]
     },
     "execution_count": 11,
     "metadata": {},
     "output_type": "execute_result"
    }
   ],
   "source": [
    "#example\n",
    "even_block().draw()"
   ]
  },
  {
   "cell_type": "markdown",
   "metadata": {},
   "source": [
    "Function to add a layer/s"
   ]
  },
  {
   "cell_type": "code",
   "execution_count": 12,
   "metadata": {},
   "outputs": [],
   "source": [
    "def add_layers(qc, L=1 , pair_blocks=[\"rz\",\"rx\"], th_in=[[None]]):\n",
    "    n=qc.num_qubits\n",
    "    if th_in[0][0]==None:\n",
    "        th_in= np.round(np.random.rand(2*L,n)*2*pii,3)\n",
    "    else:\n",
    "        L=int(len(th_in)/2)\n",
    "        n=int(len(th_in[0]))\n",
    "        \n",
    "    for i in range(L):\n",
    "        odd_name=\"U_{}\".format(i*2+1)\n",
    "        even_name=\"U_{}\".format((i+1)*2)\n",
    "        odd = odd_block(n,th_i=th_in[i*2],block_name=odd_name,par_gate=pair_blocks[0])\n",
    "        even= even_block(n,th_i=th_in[(i*2)+1],block_name=even_name,par_gate=pair_blocks[1])\n",
    "        \n",
    "        qc.append(odd,range(n))\n",
    "        qc.append(even,range(n))\n",
    "        qc.barrier()"
   ]
  },
  {
   "cell_type": "code",
   "execution_count": 13,
   "metadata": {},
   "outputs": [
    {
     "data": {
      "text/html": [
       "<pre style=\"word-wrap: normal;white-space: pre;background: #fff0;line-height: 1.1;font-family: &quot;Courier New&quot;,Courier,monospace\">     ┌──────┐┌──────┐ ░ \n",
       "q_0: ┤0     ├┤0     ├─░─\n",
       "     │      ││      │ ░ \n",
       "q_1: ┤1     ├┤1     ├─░─\n",
       "     │  U_1 ││  U_2 │ ░ \n",
       "q_2: ┤2     ├┤2     ├─░─\n",
       "     │      ││      │ ░ \n",
       "q_3: ┤3     ├┤3     ├─░─\n",
       "     └──────┘└──────┘ ░ </pre>"
      ],
      "text/plain": [
       "     ┌──────┐┌──────┐ ░ \n",
       "q_0: ┤0     ├┤0     ├─░─\n",
       "     │      ││      │ ░ \n",
       "q_1: ┤1     ├┤1     ├─░─\n",
       "     │  U_1 ││  U_2 │ ░ \n",
       "q_2: ┤2     ├┤2     ├─░─\n",
       "     │      ││      │ ░ \n",
       "q_3: ┤3     ├┤3     ├─░─\n",
       "     └──────┘└──────┘ ░ "
      ]
     },
     "execution_count": 13,
     "metadata": {},
     "output_type": "execute_result"
    }
   ],
   "source": [
    "qc=QuantumCircuit(4)\n",
    "add_layers(qc,th_in=[[1,2,2,1],[1,2,1,1]])\n",
    "qc.draw()"
   ]
  },
  {
   "cell_type": "markdown",
   "metadata": {},
   "source": [
    "extracting the resulting state:"
   ]
  },
  {
   "cell_type": "code",
   "execution_count": 14,
   "metadata": {},
   "outputs": [],
   "source": [
    "def psi_th(th_in):\n",
    "    n=int(len(th_in[0]))\n",
    "    qc=QuantumCircuit(n)\n",
    "    add_layers(qc, pair_blocks=[\"rz\",\"rx\"], th_in=th_in)\n",
    "    \n",
    "    # Let's see the result\n",
    "    backend = Aer.get_backend('statevector_simulator')\n",
    "    final_state = execute(qc,backend).result().get_statevector()\n",
    "    return final_state"
   ]
  },
  {
   "cell_type": "code",
   "execution_count": 15,
   "metadata": {},
   "outputs": [
    {
     "data": {
      "text/latex": [
       "$\\displaystyle \n",
       "\\text{Statevector} = \\begin{bmatrix}\n",
       "0.36517 \\\\\n",
       "-0.1995i \\\\\n",
       "-0.56873i \\\\\n",
       "-0.3107 \\\\\n",
       "-0.1995i \\\\\n",
       "-0.10899 \\\\\n",
       "-0.3107 \\\\\n",
       "0.16973i \\\\\n",
       "-0.1995i \\\\\n",
       "-0.10899 \\\\\n",
       "-0.3107 \\\\\n",
       "0.16973i \\\\\n",
       "-0.10899 \\\\\n",
       "0.05954i \\\\\n",
       "0.16973i \\\\\n",
       "0.09273\n",
       "\\end{bmatrix}\n",
       "$"
      ],
      "text/plain": [
       "<IPython.core.display.Math object>"
      ]
     },
     "metadata": {},
     "output_type": "display_data"
    }
   ],
   "source": [
    "#example\n",
    "final_state=psi_th([[1,2,2,1],[1,2,1,1]])\n",
    "from qiskit_textbook.tools import array_to_latex\n",
    "array_to_latex(final_state, pretext=\"\\\\text{Statevector} = \")"
   ]
  },
  {
   "cell_type": "markdown",
   "metadata": {},
   "source": [
    "a function that return the norm^2 of the difference between the final state and some other random state."
   ]
  },
  {
   "cell_type": "code",
   "execution_count": 16,
   "metadata": {},
   "outputs": [],
   "source": [
    "def eps(unzipped_th_in):  #the function to be minimized\n",
    "    n=4\n",
    "    th_in = [unzipped_th_in[x:x+n] for x in range(0, len(unzipped_th_in), n)]\n",
    "    psi=psi_th(th_in)\n",
    "    phi=random_statevector(2**n).data  #define it out of this function for security\n",
    "    dif=np.array(psi)-np.array(phi)\n",
    "    epslon= np.dot(np.transpose(np.conjugate(dif)),dif)\n",
    "    return np.real(epslon)"
   ]
  },
  {
   "cell_type": "code",
   "execution_count": 17,
   "metadata": {},
   "outputs": [
    {
     "data": {
      "text/plain": [
       "2.012555843682804"
      ]
     },
     "execution_count": 17,
     "metadata": {},
     "output_type": "execute_result"
    }
   ],
   "source": [
    "#example\n",
    "eps([1,2,4,1,1,2,1,1])"
   ]
  },
  {
   "cell_type": "markdown",
   "metadata": {},
   "source": [
    "Finally the minimum set of all parameters that minimize that difference (2 layer example)"
   ]
  },
  {
   "cell_type": "code",
   "execution_count": 23,
   "metadata": {},
   "outputs": [],
   "source": [
    "pii=np.pi\n",
    "x0=np.random.rand(4*2) #initial random guess\n",
    "result=optimize.minimize(eps,x0,bounds=((0,2*pii),)*4*2)"
   ]
  },
  {
   "cell_type": "code",
   "execution_count": 24,
   "metadata": {},
   "outputs": [
    {
     "data": {
      "text/plain": [
       "      fun: 1.726979441265252\n",
       " hess_inv: <8x8 LbfgsInvHessProduct with dtype=float64>\n",
       "      jac: array([ 17352972.37437514,  24570352.35719074,  42745698.30457224,\n",
       "        40649273.38976165,  60717163.20562776,  73128346.46986409,\n",
       "       -21468012.53320691,  77862039.36830974])\n",
       "  message: b'CONVERGENCE: REL_REDUCTION_OF_F_<=_FACTR*EPSMCH'\n",
       "     nfev: 432\n",
       "      nit: 4\n",
       "   status: 0\n",
       "  success: True\n",
       "        x: array([0.55854112, 0.05673774, 0.954339  , 0.46276059, 0.8685632 ,\n",
       "       0.65788789, 0.53107954, 0.92584716])"
      ]
     },
     "execution_count": 24,
     "metadata": {},
     "output_type": "execute_result"
    }
   ],
   "source": [
    "result"
   ]
  },
  {
   "cell_type": "markdown",
   "metadata": {},
   "source": [
    "Now, using these function we can simply generate a graph between the number of layers and the minimum difference reached."
   ]
  }
 ],
 "metadata": {
  "@webio": {
   "lastCommId": null,
   "lastKernelId": null
  },
  "kernelspec": {
   "display_name": "Python 3",
   "language": "python",
   "name": "python3"
  },
  "language_info": {
   "codemirror_mode": {
    "name": "ipython",
    "version": 3
   },
   "file_extension": ".py",
   "mimetype": "text/x-python",
   "name": "python",
   "nbconvert_exporter": "python",
   "pygments_lexer": "ipython3",
   "version": "3.7.6"
  }
 },
 "nbformat": 4,
 "nbformat_minor": 4
}
